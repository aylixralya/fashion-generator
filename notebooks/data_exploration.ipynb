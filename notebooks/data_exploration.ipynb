{
 "cells": [
  {
   "cell_type": "markdown",
   "id": "50d5adec",
   "metadata": {},
   "source": [
    "# Fashion Data Exploration\n",
    "\n",
    "Dieses Notebook führt eine Basisanalyse der bereitgestellten Fashion-Datensätze (DeepFashion, ModaNet, Fashion-MNIST) durch. Die Kernfunktionen werden in .py-Dateien ausgelagert und im Notebook verwendet."
   ]
  },
  {
   "cell_type": "code",
   "execution_count": 1,
   "id": "611e1a26",
   "metadata": {},
   "outputs": [
    {
     "name": "stdout",
     "output_type": "stream",
     "text": [
      "Projektordner '../project_analysis' ist bereit.\n"
     ]
    }
   ],
   "source": [
    "import os\n",
    "\n",
    "# Neuen Ordner für das Projekt anlegen (falls nicht vorhanden)\n",
    "project_dir = '../project_analysis'\n",
    "os.makedirs(project_dir, exist_ok=True)\n",
    "print(f\"Projektordner '{project_dir}' ist bereit.\")"
   ]
  },
  {
   "cell_type": "markdown",
   "id": "cb7518a2",
   "metadata": {},
   "source": [
    "## Das Notebook ist im neuen Ordner gespeichert\n",
    "\n",
    "Dieses Notebook befindet sich im Ordner `notebooks/` und nutzt für Analysen den Ordner `project_analysis/`."
   ]
  },
  {
   "cell_type": "code",
   "execution_count": 4,
   "id": "870780ca",
   "metadata": {},
   "outputs": [],
   "source": [
    "import numpy as np\n",
    "import pandas as pd\n",
    "import matplotlib.pyplot as plt\n",
    "from PIL import Image\n",
    "import json\n",
    "import gzip"
   ]
  },
  {
   "cell_type": "markdown",
   "id": "b77023b4",
   "metadata": {},
   "source": [
    "## Basisanalyse der Fashion-Daten\n",
    "\n",
    "Im Folgenden werden die Datensätze DeepFashion, ModaNet und Fashion-MNIST exemplarisch geladen und analysiert."
   ]
  },
  {
   "cell_type": "code",
   "execution_count": 5,
   "id": "aa8c2c7c",
   "metadata": {},
   "outputs": [
    {
     "data": {
      "image/png": "[encoded data removed]",
      "text/plain": [
       "<Figure size 1000x200 with 5 Axes>"
      ]
     },
     "metadata": {},
     "output_type": "display_data"
    }
   ],
   "source": [
    "# Beispiel: Fashion-MNIST laden und ein paar Bilder anzeigen\n",
    "def load_mnist_images_labels(images_path, labels_path, num=5):\n",
    "    with gzip.open(labels_path, 'rb') as lbpath:\n",
    "        lbpath.read(8)\n",
    "        labels = np.frombuffer(lbpath.read(), dtype=np.uint8)\n",
    "    with gzip.open(images_path, 'rb') as imgpath:\n",
    "        imgpath.read(16)\n",
    "        images = np.frombuffer(imgpath.read(), dtype=np.uint8).reshape(-1, 28, 28)\n",
    "    return images[:num], labels[:num]\n",
    "\n",
    "mnist_images_path = '../data/zelando/train-images-idx3-ubyte.gz'\n",
    "mnist_labels_path = '../data/zelando/train-labels-idx1-ubyte.gz'\n",
    "\n",
    "images, labels = load_mnist_images_labels(mnist_images_path, mnist_labels_path, num=5)\n",
    "\n",
    "fig, axes = plt.subplots(1, 5, figsize=(10,2))\n",
    "for i, ax in enumerate(axes):\n",
    "    ax.imshow(images[i], cmap='gray')\n",
    "    ax.set_title(f'Label: {labels[i]}')\n",
    "    ax.axis('off')\n",
    "plt.show()"
   ]
  },
  {
   "cell_type": "code",
   "execution_count": null,
   "id": "0b47cb9d",
   "metadata": {},
   "outputs": [
    {
     "name": "stdout",
     "output_type": "stream",
     "text": [
      "Bild: MEN-Denim-id_00000080-01_7_additional.jpg\n",
      "Beschreibung: The lower clothing is of long length. The fabric is cotton and it has plaid patterns.\n",
      "\n",
      "Bild: MEN-Denim-id_00000089-01_7_additional.jpg\n",
      "Beschreibung: His tank top has sleeves cut off, cotton fabric and pure color patterns. The neckline of it is round. The pants this man wears is of long length. The pants are with cotton fabric and pure color patterns.\n",
      "\n",
      "Bild: MEN-Denim-id_00000089-02_7_additional.jpg\n",
      "Beschreibung: His sweater has long sleeves, cotton fabric and stripe patterns. The neckline of it is lapel. The gentleman wears a long pants. The pants are with cotton fabric and solid color patterns.\n",
      "\n"
     ]
    }
   ],
   "source": [
    "# Beispiel: DeepFashion Metadaten laden und Bildpfade anzeigen\n",
    "with open('../data/DeepFashion/captions.json', 'r') as f:\n",
    "    captions = json.load(f)\n",
    "\n",
    "# Zeige die ersten 3 Einträge\n",
    "for i, (img, meta) in enumerate(list(captions.items())[:3]):\n",
    "    print(f\"Bild: {img}\\nBeschreibung: {meta}\\n\")"
   ]
  },
  {
   "cell_type": "code",
   "execution_count": 7,
   "id": "da543ec1",
   "metadata": {},
   "outputs": [
    {
     "name": "stdout",
     "output_type": "stream",
     "text": [
      "Bild-ID: 736791\n",
      "Kategorien: 2\n",
      "Segmente: [[161, 248, 170, 248, 173, 249, 189, 251, 199, 252, 199, 250, 212, 250, 212, 252, 224, 253, 239, 251, 248, 250, 257, 247, 257, 253, 249, 255, 248, 260, 248, 265, 228, 264, 215, 264, 200, 264, 196, 261, 189, 260, 182, 259, 171, 259, 164, 255, 160, 254, 161, 254]]\n",
      "\n",
      "Bild-ID: 736791\n",
      "Kategorien: 4\n",
      "Segmente: [[198, 543, 197, 551, 198, 556, 199, 565, 200, 573, 205, 579, 210, 585, 217, 585, 224, 584, 227, 582, 226, 567, 226, 562, 223, 565, 217, 567, 211, 569, 206, 568, 200, 563, 200, 552, 199, 546]]\n",
      "\n"
     ]
    }
   ],
   "source": [
    "# Beispiel: ModaNet-Annotationen laden und analysieren\n",
    "with open('../data/modanet/modanet2018_instances_train.json', 'r') as f:\n",
    "    modanet_train = json.load(f)\n",
    "\n",
    "# Zeige die ersten 2 Annotationen\n",
    "for i, ann in enumerate(modanet_train['annotations'][:2]):\n",
    "    print(f\"Bild-ID: {ann['image_id']}\")\n",
    "    print(f\"Kategorien: {ann['category_id']}\")\n",
    "    print(f\"Segmente: {ann['segmentation'][:1]}\\n\")"
   ]
  },
  {
   "cell_type": "markdown",
   "id": "da52628f",
   "metadata": {},
   "source": [
    "## Auslagerung von Kernfunktionen\n",
    "\n",
    "Die wichtigsten Analysefunktionen wurden in die Datei `project_analysis/data_utils.py` ausgelagert."
   ]
  },
  {
   "cell_type": "code",
   "execution_count": 8,
   "id": "67097055",
   "metadata": {},
   "outputs": [
    {
     "data": {
      "image/png": "[encoded data removed]",
      "text/plain": [
       "<Figure size 1000x200 with 5 Axes>"
      ]
     },
     "metadata": {},
     "output_type": "display_data"
    },
    {
     "name": "stdout",
     "output_type": "stream",
     "text": [
      "Bild: MEN-Denim-id_00000080-01_7_additional.jpg\n",
      "Beschreibung: The lower clothing is of long length. The fabric is cotton and it has plaid patterns.\n",
      "\n",
      "Bild: MEN-Denim-id_00000089-01_7_additional.jpg\n",
      "Beschreibung: His tank top has sleeves cut off, cotton fabric and pure color patterns. The neckline of it is round. The pants this man wears is of long length. The pants are with cotton fabric and pure color patterns.\n",
      "\n",
      "Bild: MEN-Denim-id_00000089-02_7_additional.jpg\n",
      "Beschreibung: His sweater has long sleeves, cotton fabric and stripe patterns. The neckline of it is lapel. The gentleman wears a long pants. The pants are with cotton fabric and solid color patterns.\n",
      "\n",
      "Bild-ID: 736791\n",
      "Kategorien: 2\n",
      "Segmente: [[161, 248, 170, 248, 173, 249, 189, 251, 199, 252, 199, 250, 212, 250, 212, 252, 224, 253, 239, 251, 248, 250, 257, 247, 257, 253, 249, 255, 248, 260, 248, 265, 228, 264, 215, 264, 200, 264, 196, 261, 189, 260, 182, 259, 171, 259, 164, 255, 160, 254, 161, 254]]\n",
      "\n",
      "Bild-ID: 736791\n",
      "Kategorien: 4\n",
      "Segmente: [[198, 543, 197, 551, 198, 556, 199, 565, 200, 573, 205, 579, 210, 585, 217, 585, 224, 584, 227, 582, 226, 567, 226, 562, 223, 565, 217, 567, 211, 569, 206, 568, 200, 563, 200, 552, 199, 546]]\n",
      "\n",
      "Bild-ID: 736791\n",
      "Kategorien: 2\n",
      "Segmente: [[161, 248, 170, 248, 173, 249, 189, 251, 199, 252, 199, 250, 212, 250, 212, 252, 224, 253, 239, 251, 248, 250, 257, 247, 257, 253, 249, 255, 248, 260, 248, 265, 228, 264, 215, 264, 200, 264, 196, 261, 189, 260, 182, 259, 171, 259, 164, 255, 160, 254, 161, 254]]\n",
      "\n",
      "Bild-ID: 736791\n",
      "Kategorien: 4\n",
      "Segmente: [[198, 543, 197, 551, 198, 556, 199, 565, 200, 573, 205, 579, 210, 585, 217, 585, 224, 584, 227, 582, 226, 567, 226, 562, 223, 565, 217, 567, 211, 569, 206, 568, 200, 563, 200, 552, 199, 546]]\n",
      "\n"
     ]
    }
   ],
   "source": [
    "import sys\n",
    "sys.path.append('../project_analysis')\n",
    "from data_utils import load_mnist_images_labels, show_mnist_images, show_deepfashion_captions, show_modanet_annotations\n",
    "\n",
    "# Beispielaufrufe\n",
    "images, labels = load_mnist_images_labels('../data/zelando/train-images-idx3-ubyte.gz', '../data/zelando/train-labels-idx1-ubyte.gz', num=5)\n",
    "show_mnist_images(images, labels)\n",
    "\n",
    "show_deepfashion_captions('../data/DeepFashion/captions.json', n=3)\n",
    "\n",
    "show_modanet_annotations('../data/modanet/modanet2018_instances_train.json', n=2)"
   ]
  }
 ],
 "metadata": {
  "kernelspec": {
   "display_name": ".venv",
   "language": "python",
   "name": "python3"
  },
  "language_info": {
   "codemirror_mode": {
    "name": "ipython",
    "version": 3
   },
   "file_extension": ".py",
   "mimetype": "text/x-python",
   "name": "python",
   "nbconvert_exporter": "python",
   "pygments_lexer": "ipython3",
   "version": "3.12.3"
  }
 },
 "nbformat": 4,
 "nbformat_minor": 5
}
