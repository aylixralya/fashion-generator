{
  "cells": [
    {
      "cell_type": "markdown",
      "id": "63e1f43e",
      "metadata": {
        "language": "markdown"
      },
      "source": [
        "# Fashion Text-to-Image Generation with Stable Diffusion\n",
        "\n",
        "This notebook allows you to generate fashion images from a text description using a pre-trained Stable Diffusion model. Enter a prompt describing your desired outfit and generate a high-quality image.\n",
        "\n",
        "**Sections:**\n",
        "1. Import Required Libraries\n",
        "2. Text Input and Model Setup\n",
        "3. Generate and Visualize Image from Text Prompt"
      ]
    },
    {
      "cell_type": "code",
      "execution_count": 1,
      "id": "3d40ca9b",
      "metadata": {
        "language": "python"
      },
      "outputs": [
        {
          "data": {
            "application/vnd.jupyter.widget-view+json": {
              "model_id": "ac0c437ec7394e59bf3d6195089c0a08",
              "version_major": 2,
              "version_minor": 0
            },
            "text/plain": [
              "HTML(value='<b>Stable Diffusion Text-to-Image Notebook</b>')"
            ]
          },
          "metadata": {},
          "output_type": "display_data"
        }
      ],
      "source": [
        "# Section 1: Import Required Libraries\n",
        "\n",
        "# Install required packages if not already installed\n",
        "try:\n",
        "    import diffusers\n",
        "except ImportError:\n",
        "    !pip install diffusers transformers torch --quiet\n",
        "    import diffusers\n",
        "\n",
        "import torch\n",
        "from diffusers import StableDiffusionPipeline\n",
        "from PIL import Image\n",
        "import matplotlib.pyplot as plt\n",
        "import ipywidgets as widgets\n",
        "display(widgets.HTML('<b>Stable Diffusion Text-to-Image Notebook</b>'))"
      ]
    },
    {
      "cell_type": "code",
      "execution_count": 9,
      "id": "334bde51",
      "metadata": {
        "language": "python"
      },
      "outputs": [
        {
          "data": {
            "application/vnd.jupyter.widget-view+json": {
              "model_id": "e02a41a55af442a4853f355dc8d89524",
              "version_major": 2,
              "version_minor": 0
            },
            "text/plain": [
              "Text(value='a short-sleeved dress infused with the grandeur of Persian Achaemenid artistry', description='Prom…"
            ]
          },
          "metadata": {},
          "output_type": "display_data"
        },
        {
          "name": "stderr",
          "output_type": "stream",
          "text": [
            "Cannot initialize model with low cpu memory usage because `accelerate` was not found in the environment. Defaulting to `low_cpu_mem_usage=False`. It is strongly recommended to install `accelerate` for faster and less memory-intense model loading. You can do so with: \n",
            "```\n",
            "pip install accelerate\n",
            "```\n",
            ".\n"
          ]
        },
        {
          "data": {
            "application/vnd.jupyter.widget-view+json": {
              "model_id": "2dacbdb8d4f8429c83b29e2d0416b876",
              "version_major": 2,
              "version_minor": 0
            },
            "text/plain": [
              "Loading pipeline components...:   0%|          | 0/7 [00:00<?, ?it/s]"
            ]
          },
          "metadata": {},
          "output_type": "display_data"
        }
      ],
      "source": [
        "# Section 2: Text Input and Model Setup\n",
        "\n",
        "# Text input widget for prompt\n",
        "description = widgets.Text(\n",
        "    value='a short-sleeved dress infused with the grandeur of Persian Achaemenid artistry',\n",
        "    placeholder='Describe the outfit you want to generate...',\n",
        "    description='Prompt:',\n",
        "    disabled=False,\n",
        "    layout=widgets.Layout(width='80%')\n",
        ")\n",
        "display(description)\n",
        "\n",
        "# Load Stable Diffusion pipeline (first run may take a while)\n",
        "device = 'cuda' if torch.cuda.is_available() else 'cpu'\n",
        "pipe = StableDiffusionPipeline.from_pretrained('runwayml/stable-diffusion-v1-5', torch_dtype=torch.float16 if device=='cuda' else torch.float32)\n",
        "pipe = pipe.to(device)\n",
        "pipe.safety_checker = None  # Disable NSFW filter for research use"
      ]
    },
    {
      "cell_type": "code",
      "execution_count": 3,
      "id": "f933397d",
      "metadata": {},
      "outputs": [],
      "source": [
        "!pip install --upgrade transformers diffusers torch --quiet"
      ]
    },
    {
      "cell_type": "code",
      "execution_count": null,
      "id": "352e6927",
      "metadata": {
        "language": "python"
      },
      "outputs": [
        {
          "data": {
            "application/vnd.jupyter.widget-view+json": {
              "model_id": "1b6ac9efda3a4eb895368f7c1c39a9f5",
              "version_major": 2,
              "version_minor": 0
            },
            "text/plain": [
              "Button(button_style='success', description='Generate Image', style=ButtonStyle())"
            ]
          },
          "metadata": {},
          "output_type": "display_data"
        },
        {
          "data": {
            "application/vnd.jupyter.widget-view+json": {
              "model_id": "25d9e395489949e39a9d72b1352e4864",
              "version_major": 2,
              "version_minor": 0
            },
            "text/plain": [
              "Output()"
            ]
          },
          "metadata": {},
          "output_type": "display_data"
        }
      ],
      "source": [
        "# Section 3: Generate and Visualize Image from Text Prompt\n",
        "\n",
        "generate_button = widgets.Button(description='Generate Image', button_style='success')\n",
        "output = widgets.Output()\n",
        "\n",
        "def on_generate_clicked(b):\n",
        "    output.clear_output()\n",
        "    prompt = description.value\n",
        "    with output:\n",
        "        print(f'Generating image for prompt: \"{prompt}\" ...')\n",
        "        image = pipe(prompt, guidance_scale=7.5, num_inference_steps=30).images[0]\n",
        "        plt.figure(figsize=(5,5))\n",
        "        plt.imshow(image)\n",
        "        plt.axis('off')\n",
        "        plt.title(f'Prompt: {prompt}')\n",
        "        plt.show()\n",
        "\n",
        "generate_button.on_click(on_generate_clicked)\n",
        "display(generate_button, output)"
      ]
    }
  ],
  "metadata": {
    "kernelspec": {
      "display_name": ".venv",
      "language": "python",
      "name": "python3"
    },
    "language_info": {
      "codemirror_mode": {
        "name": "ipython",
        "version": 3
      },
      "file_extension": ".py",
      "mimetype": "text/x-python",
      "name": "python",
      "nbconvert_exporter": "python",
      "pygments_lexer": "ipython3",
      "version": "3.12.3"
    }
  },
  "nbformat": 4,
  "nbformat_minor": 5
}
