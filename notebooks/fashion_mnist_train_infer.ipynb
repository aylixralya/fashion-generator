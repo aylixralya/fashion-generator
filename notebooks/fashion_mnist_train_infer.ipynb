{
 "cells": [
  {
   "cell_type": "markdown",
   "id": "f673e02d",
   "metadata": {},
   "source": [
    "# Fashion-MNIST: Training und Inferenz mit CNN\n",
    "\n",
    "Dieses Notebook zeigt, wie ein einfaches Convolutional Neural Network (CNN) auf Fashion-MNIST trainiert und für Vorhersagen genutzt wird."
   ]
  },
  {
   "cell_type": "code",
   "execution_count": 2,
   "id": "d1cad0d3",
   "metadata": {},
   "outputs": [],
   "source": [
    "import numpy as np\n",
    "import torch\n",
    "import torch.nn as nn\n",
    "import torch.optim as optim\n",
    "from torch.utils.data import DataLoader, TensorDataset\n",
    "from torchvision import datasets, transforms\n",
    "import matplotlib.pyplot as plt\n",
    "from PIL import Image"
   ]
  },
  {
   "cell_type": "code",
   "execution_count": 5,
   "id": "681232f6",
   "metadata": {},
   "outputs": [],
   "source": [
    "class SimpleCNN(nn.Module):\n",
    "    def __init__(self, num_classes=10):\n",
    "        super(SimpleCNN, self).__init__()\n",
    "        self.conv1 = nn.Conv2d(1, 32, kernel_size=3, padding=1)\n",
    "        self.relu = nn.ReLU()\n",
    "        self.pool = nn.MaxPool2d(2, 2)\n",
    "        self.conv2 = nn.Conv2d(32, 64, kernel_size=3, padding=1)\n",
    "        self.fc1 = nn.Linear(64 * 7 * 7, 128)\n",
    "        self.fc2 = nn.Linear(128, num_classes)\n",
    "\n",
    "    def forward(self, x):\n",
    "        x = self.pool(self.relu(self.conv1(x)))\n",
    "        x = self.pool(self.relu(self.conv2(x)))\n",
    "        x = x.view(x.size(0), -1)\n",
    "        x = self.relu(self.fc1(x))\n",
    "        x = self.fc2(x)\n",
    "        return x"
   ]
  },
  {
   "cell_type": "code",
   "execution_count": 6,
   "id": "fb0e9d9f",
   "metadata": {},
   "outputs": [
    {
     "name": "stderr",
     "output_type": "stream",
     "text": [
      "100%|██████████| 26.4M/26.4M [00:05<00:00, 4.86MB/s]\n",
      "100%|██████████| 29.5k/29.5k [00:00<00:00, 1.58MB/s]\n",
      "100%|██████████| 4.42M/4.42M [00:00<00:00, 4.56MB/s]\n",
      "100%|██████████| 5.15k/5.15k [00:00<00:00, 20.4MB/s]\n"
     ]
    }
   ],
   "source": [
    "# Fashion-MNIST Daten laden\n",
    "transform = transforms.Compose([\n",
    "    transforms.ToTensor()\n",
    "])\n",
    "trainset = datasets.FashionMNIST(root='./data', train=True, download=True, transform=transform)\n",
    "trainloader = DataLoader(trainset, batch_size=64, shuffle=True)\n",
    "testset = datasets.FashionMNIST(root='./data', train=False, download=True, transform=transform)\n",
    "testloader = DataLoader(testset, batch_size=64, shuffle=False)"
   ]
  },
  {
   "cell_type": "code",
   "execution_count": 7,
   "id": "0d4d61da",
   "metadata": {},
   "outputs": [],
   "source": [
    "def train_model(model, train_loader, epochs=5, lr=0.001, device='cpu'):\n",
    "    model.to(device)\n",
    "    criterion = nn.CrossEntropyLoss()\n",
    "    optimizer = optim.Adam(model.parameters(), lr=lr)\n",
    "    for epoch in range(epochs):\n",
    "        model.train()\n",
    "        running_loss = 0.0\n",
    "        for images, labels in train_loader:\n",
    "            images, labels = images.to(device), labels.to(device)\n",
    "            optimizer.zero_grad()\n",
    "            outputs = model(images)\n",
    "            loss = criterion(outputs, labels)\n",
    "            loss.backward()\n",
    "            optimizer.step()\n",
    "            running_loss += loss.item()\n",
    "        print(f\"Epoch {epoch+1}/{epochs}, Loss: {running_loss/len(train_loader):.4f}\")\n",
    "    print(\"Training finished.\")\n",
    "    return model"
   ]
  },
  {
   "cell_type": "code",
   "execution_count": 8,
   "id": "cedd349b",
   "metadata": {},
   "outputs": [
    {
     "name": "stdout",
     "output_type": "stream",
     "text": [
      "Epoch 1/5, Loss: 0.4675\n",
      "Epoch 2/5, Loss: 0.2971\n",
      "Epoch 2/5, Loss: 0.2971\n",
      "Epoch 3/5, Loss: 0.2548\n",
      "Epoch 3/5, Loss: 0.2548\n",
      "Epoch 4/5, Loss: 0.2232\n",
      "Epoch 4/5, Loss: 0.2232\n",
      "Epoch 5/5, Loss: 0.2005\n",
      "Training finished.\n",
      "Modell gespeichert als fashion_mnist_cnn.pth\n",
      "Epoch 5/5, Loss: 0.2005\n",
      "Training finished.\n",
      "Modell gespeichert als fashion_mnist_cnn.pth\n"
     ]
    }
   ],
   "source": [
    "device = torch.device('cuda' if torch.cuda.is_available() else 'cpu')\n",
    "model = SimpleCNN(num_classes=10)\n",
    "trained_model = train_model(model, trainloader, epochs=5, lr=0.001, device=device)\n",
    "# Modell speichern\n",
    "torch.save(trained_model.state_dict(), 'fashion_mnist_cnn.pth')\n",
    "print('Modell gespeichert als fashion_mnist_cnn.pth')"
   ]
  },
  {
   "cell_type": "code",
   "execution_count": 9,
   "id": "9b350c54",
   "metadata": {},
   "outputs": [
    {
     "data": {
      "image/png": "[encoded data removed]",
      "text/plain": [
       "<Figure size 640x480 with 1 Axes>"
      ]
     },
     "metadata": {},
     "output_type": "display_data"
    }
   ],
   "source": [
    "FASHION_LABELS = [\n",
    "    \"T-shirt/top\", \"Trouser\", \"Pullover\", \"Dress\", \"Coat\",\n",
    "    \"Sandal\", \"Shirt\", \"Sneaker\", \"Bag\", \"Ankle boot\"\n",
    "]\n",
    "\n",
    "def predict_image(model, image_tensor, device='cpu'):\n",
    "    model.eval()\n",
    "    image_tensor = image_tensor.to(device)\n",
    "    with torch.no_grad():\n",
    "        outputs = model(image_tensor)\n",
    "        _, predicted = torch.max(outputs, 1)\n",
    "    return predicted.item(), FASHION_LABELS[predicted.item()]\n",
    "\n",
    "# Beispiel: Vorhersage für ein Testbild\n",
    "model = SimpleCNN(num_classes=10)\n",
    "model.load_state_dict(torch.load('fashion_mnist_cnn.pth', map_location=device))\n",
    "model.to(device)\n",
    "dataiter = iter(testloader)\n",
    "images, labels = next(dataiter)\n",
    "img = images[0].unsqueeze(0)\n",
    "pred_idx, pred_label = predict_image(model, img, device)\n",
    "plt.imshow(img.cpu().squeeze(), cmap='gray')\n",
    "plt.title(f'Vorhersage: {pred_label}')\n",
    "plt.axis('off')\n",
    "plt.show()"
   ]
  }
 ],
 "metadata": {
  "kernelspec": {
   "display_name": ".venv",
   "language": "python",
   "name": "python3"
  },
  "language_info": {
   "codemirror_mode": {
    "name": "ipython",
    "version": 3
   },
   "file_extension": ".py",
   "mimetype": "text/x-python",
   "name": "python",
   "nbconvert_exporter": "python",
   "pygments_lexer": "ipython3",
   "version": "3.12.3"
  }
 },
 "nbformat": 4,
 "nbformat_minor": 5
}
